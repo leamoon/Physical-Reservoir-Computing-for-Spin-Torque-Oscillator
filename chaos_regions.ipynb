{
 "cells": [
  {
   "cell_type": "code",
   "execution_count": 1,
   "metadata": {
    "collapsed": true
   },
   "outputs": [],
   "source": [
    "import numpy as np\n",
    "import matplotlib.pyplot as plt"
   ]
  },
  {
   "cell_type": "code",
   "execution_count": 25,
   "outputs": [
    {
     "name": "stdout",
     "output_type": "stream",
     "text": [
      "[[ 1.          2.          3.          4.        ]\n",
      " [ 0.63333333  2.26666667  2.9        -3.46666667]\n",
      " [ 0.65853659  1.25160462 -1.08985879  0.02695764]\n",
      " [-0.76086957  0.35507246 -0.05072464  0.05072464]]\n",
      "Orthogonal : [[ 0.18257419  0.36514837  0.54772256  0.73029674]\n",
      " [ 0.12428658  0.44481514  0.56910172 -0.6803055 ]\n",
      " [ 0.36878465  0.70090651 -0.61032782  0.01509645]\n",
      " [-0.9028939   0.42135049 -0.06019293  0.06019293]]\n"
     ]
    }
   ],
   "source": [
    "import numpy as np\n",
    "import matplotlib.pyplot as plt\n",
    "\n",
    "un_o_matrix = np.mat([[1, 2, 3, 4], [2, 5, 7, 2], [2, 4, 3, 5], [1, 4, 5, 6]])\n",
    "row_len, column_len = un_o_matrix.shape\n",
    "x1, x2, x3, x4 = un_o_matrix[0, :], un_o_matrix[1, :], un_o_matrix[2, :], un_o_matrix[3, :]\n",
    "x1_new = x1\n",
    "x2_new = x2 - (np.dot(x2, x1_new.T) / np.dot(x1_new, x1_new.T))[0, 0] * x1_new\n",
    "x3_new = x3 - (np.dot(x3, x1_new.T) / np.dot(x1_new, x1_new.T))[0, 0] * x1_new - (np.dot(\n",
    "    x3, x2_new.T) / np.dot(x2_new, x2_new.T))[0, 0] * x2_new\n",
    "x4_new = x4 - (np.dot(x4, x1_new.T) / np.dot(x1_new, x1_new.T))[0, 0] * x1_new - (np.dot(\n",
    "    x4, x2_new.T) / np.dot(x2_new, x2_new.T))[0, 0] * x2_new - (\n",
    "                 np.dot(x4, x3_new.T) / np.dot(x3_new, x3_new.T))[0, 0] * x3_new\n",
    "o_matrix = np.vstack([x1_new, x2_new, x3_new, x4_new])\n",
    "print(o_matrix)\n",
    "\n",
    "# normalization\n",
    "x1_new = x1_new/np.linalg.norm(x1_new)\n",
    "x2_new = x2_new/np.linalg.norm(x2_new)\n",
    "x3_new = x3_new/np.linalg.norm(x3_new)\n",
    "x4_new = x4_new/np.linalg.norm(x4_new)\n",
    "o_matrix = np.vstack([x1_new, x2_new, x3_new, x4_new])\n",
    "print('Orthogonal : {}'.format(o_matrix))\n",
    "\n",
    "sum_x = np.log(np.linalg.norm(o_matrix[0, :]))"
   ],
   "metadata": {
    "collapsed": false,
    "pycharm": {
     "name": "#%%\n"
    }
   }
  },
  {
   "cell_type": "code",
   "execution_count": 31,
   "outputs": [
    {
     "name": "stdout",
     "output_type": "stream",
     "text": [
      "[[1 2 2 2]]\n",
      "3.605551275463989\n",
      "1.2824746787307684\n"
     ]
    }
   ],
   "source": [
    "delta_x = np.mat([[1, 2, 2, 2], [0, 1, 0, 0], [0, 0, 1, 0], [0, 0, 0, 1]])\n",
    "print(delta_x[0, :])\n",
    "print(np.linalg.norm(delta_x[0, :]))\n",
    "x1 = np.log(np.linalg.norm(delta_x[0, :]))\n",
    "print(x1)"
   ],
   "metadata": {
    "collapsed": false,
    "pycharm": {
     "name": "#%%\n"
    }
   }
  },
  {
   "cell_type": "code",
   "execution_count": null,
   "outputs": [],
   "source": [],
   "metadata": {
    "collapsed": false,
    "pycharm": {
     "name": "#%%\n"
    }
   }
  }
 ],
 "metadata": {
  "kernelspec": {
   "name": "pycharm-41613528",
   "language": "python",
   "display_name": "PyCharm (echo_state_network)"
  },
  "language_info": {
   "codemirror_mode": {
    "name": "ipython",
    "version": 2
   },
   "file_extension": ".py",
   "mimetype": "text/x-python",
   "name": "python",
   "nbconvert_exporter": "python",
   "pygments_lexer": "ipython2",
   "version": "2.7.6"
  }
 },
 "nbformat": 4,
 "nbformat_minor": 0
}