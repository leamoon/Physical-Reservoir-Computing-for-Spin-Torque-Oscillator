{
 "cells": [
  {
   "cell_type": "code",
   "execution_count": 4,
   "outputs": [
    {
     "name": "stdout",
     "output_type": "stream",
     "text": [
      "3\n"
     ]
    }
   ],
   "source": [
    "import numpy as np\n",
    "\n",
    "un_o_matrix = np.mat([[1, 2, 3, 4], [2, 5, 7, 2], [2, 4, 3, 5]])\n",
    "row_len, column_len = un_o_matrix.shape\n",
    "print(row_len)"
   ],
   "metadata": {
    "collapsed": false,
    "pycharm": {
     "name": "#%%\n"
    }
   }
  },
  {
   "cell_type": "code",
   "execution_count": 31,
   "outputs": [
    {
     "name": "stdout",
     "output_type": "stream",
     "text": [
      "[[1 2 2 2]]\n",
      "3.605551275463989\n",
      "1.2824746787307684\n"
     ]
    }
   ],
   "source": [
    "delta_x = np.mat([[1, 2, 2, 2], [0, 1, 0, 0], [0, 0, 1, 0], [0, 0, 0, 1]])\n",
    "print(delta_x[0, :])\n",
    "print(np.linalg.norm(delta_x[0, :]))\n",
    "x1 = np.log(np.linalg.norm(delta_x[0, :]))\n",
    "print(x1)"
   ],
   "metadata": {
    "collapsed": false,
    "pycharm": {
     "name": "#%%\n"
    }
   }
  },
  {
   "cell_type": "code",
   "execution_count": null,
   "outputs": [],
   "source": [],
   "metadata": {
    "collapsed": false,
    "pycharm": {
     "name": "#%%\n"
    }
   }
  }
 ],
 "metadata": {
  "kernelspec": {
   "name": "pycharm-41613528",
   "language": "python",
   "display_name": "PyCharm (echo_state_network)"
  },
  "language_info": {
   "codemirror_mode": {
    "name": "ipython",
    "version": 2
   },
   "file_extension": ".py",
   "mimetype": "text/x-python",
   "name": "python",
   "nbconvert_exporter": "python",
   "pygments_lexer": "ipython2",
   "version": "2.7.6"
  }
 },
 "nbformat": 4,
 "nbformat_minor": 0
}