{
 "cells": [
  {
   "cell_type": "code",
   "execution_count": 2,
   "metadata": {},
   "outputs": [],
   "source": [
    "import numpy as np\n",
    "import pandas as pd\n",
    "import matplotlib.pyplot as plt\n",
    "import ipc_module"
   ]
  },
  {
   "cell_type": "code",
   "execution_count": 3,
   "metadata": {},
   "outputs": [],
   "source": [
    "# define the input ratio\n",
    "length_signals = 20000\n",
    "posibility_0 =0.5\n",
    "superposition_number = 3 # delay value\n",
    "s_in = np.random.choice([0, 1], size=length_signals, p=[posibility_0, 1-posibility_0])\n",
    "train_signal = s_in\n",
    "for super_value in range(1, superposition_number + 1):\n",
    "    temp_signal = np.append(s_in[-int(super_value):], s_in[:-int(super_value)])\n",
    "    train_signal = train_signal + temp_signal\n",
    "    train_signal[np.argwhere(train_signal == 2)] = 0"
   ]
  },
  {
   "cell_type": "markdown",
   "metadata": {},
   "source": [
    "# result summary\n",
    "[1, 1000] -> no ipc \n",
    "[2, 200] -> no ipc \n",
    "[3, 100] -> no ipc (0.35)\n",
    "[4, 50] -> no ipc (0.53)\n",
    "[5, 30] -> no ipc\n",
    "[6, 10] -> no ipc\n",
    "[7, 10] -> no ipc\n",
    "[8, 10] -> no ipc"
   ]
  },
  {
   "cell_type": "code",
   "execution_count": 5,
   "metadata": {},
   "outputs": [
    {
     "name": "stdout",
     "output_type": "stream",
     "text": [
      "Loading the delay-degree sets\n",
      "(10000, 1)\n",
      "initialize ...\n"
     ]
    },
    {
     "data": {
      "application/vnd.jupyter.widget-view+json": {
       "model_id": "910c465b8ad94df29bd5921a6574fd45",
       "version_major": 2,
       "version_minor": 0
      },
      "text/plain": [
       "Output()"
      ]
     },
     "metadata": {},
     "output_type": "display_data"
    },
    {
     "name": "stdout",
     "output_type": "stream",
     "text": [
      "degree 5 delay 30 ipc 0.1289090485207024\n",
      "info 0.0022034238747165647\n"
     ]
    }
   ],
   "source": [
    "# define ipc moduel of ideal output\n",
    "delay_degree_list = [[5, 30]]\n",
    "reservoirs = train_signal[10000:].T.reshape(10000, 1)\n",
    "# print(reservoirs, reservoirs.shape)\n",
    "for degree_ipc, max_delay_ipc in delay_degree_list:\n",
    "    ipc_analyze = ipc_module.ipc(\n",
    "                washtime=10000, s_in=s_in, reservoir_states=reservoirs, N_binomial=1, p_binomial=0.5,\n",
    "                distribution_in='bernoulli', degree=degree_ipc, max_delay=max_delay_ipc, scale_factor=1.5\n",
    "                )\n",
    "    ipc_list = ipc_analyze.thresold()\n",
    "    print('degree', degree_ipc, 'delay', max_delay_ipc, 'ipc', np.sum(ipc_list))\n",
    "    print('info', np.max(ipc_list))"
   ]
  }
 ],
 "metadata": {
  "kernelspec": {
   "display_name": "Python 3.8.13 ('base')",
   "language": "python",
   "name": "python3"
  },
  "language_info": {
   "codemirror_mode": {
    "name": "ipython",
    "version": 3
   },
   "file_extension": ".py",
   "mimetype": "text/x-python",
   "name": "python",
   "nbconvert_exporter": "python",
   "pygments_lexer": "ipython3",
   "version": "3.8.13"
  },
  "orig_nbformat": 4,
  "vscode": {
   "interpreter": {
    "hash": "b1d41f9da403d21740b895aae2508b6bed6b82f34aa0093ab628a74237156fb7"
   }
  }
 },
 "nbformat": 4,
 "nbformat_minor": 2
}
