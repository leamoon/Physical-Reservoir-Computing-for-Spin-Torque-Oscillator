{
 "cells": [
  {
   "cell_type": "code",
   "execution_count": 4,
   "metadata": {},
   "outputs": [],
   "source": [
    "import numpy as np\n",
    "import pandas as pd\n",
    "import matplotlib.pyplot as plt\n",
    "import ipc_module"
   ]
  },
  {
   "cell_type": "markdown",
   "metadata": {},
   "source": [
    "This code is for analyzing the narma task and its ipc value\n",
    "1. IPC of the idel outputs\n",
    "2. IPC of the RC system outputs with or without ac current\n",
    "3. IPC of the RC under different input ratio\n",
    "4. IPC of the RC reservoir states under different input ratio\n"
   ]
  },
  {
   "cell_type": "code",
   "execution_count": 5,
   "metadata": {},
   "outputs": [],
   "source": [
    "# define the input ratio\n",
    "length_signals = 20000\n",
    "posibility_0 =0.5\n",
    "s_in = np.random.choice([0, 1], size=length_signals, p=[posibility_0, 1-posibility_0])\n",
    "s_in = 0.2*s_in\n",
    "# train_signal = s_in[-int(2):]\n",
    "train_signal = 0.2*np.ones(2) # Make the first two elements as 1\n",
    "for super_value in range(2,length_signals):\n",
    "    temp_signal = 0.4*train_signal[super_value-1] + 0.4*train_signal[super_value-1]*train_signal[super_value-2] + 0.6*np.power(s_in[super_value-1], 3) + 0.1\n",
    "    train_signal = np.append(train_signal, temp_signal)"
   ]
  },
  {
   "cell_type": "code",
   "execution_count": null,
   "metadata": {},
   "outputs": [],
   "source": [
    "# define the ipc for output of rc system\n",
    "weight_path = f''\n"
   ]
  },
  {
   "cell_type": "code",
   "execution_count": 7,
   "metadata": {},
   "outputs": [
    {
     "name": "stdout",
     "output_type": "stream",
     "text": [
      "shape of reservoir (10000, 1)\n",
      "Loading the delay-degree sets\n",
      "(10000, 1)\n",
      "initialize ...\n"
     ]
    },
    {
     "data": {
      "application/vnd.jupyter.widget-view+json": {
       "model_id": "223450a5234646aa807aab77b8d10eb3",
       "version_major": 2,
       "version_minor": 0
      },
      "text/plain": [
       "Output()"
      ]
     },
     "metadata": {},
     "output_type": "display_data"
    },
    {
     "name": "stdout",
     "output_type": "stream",
     "text": [
      "degree 1 delay 200 ipc 0.9991078756919938\n",
      "shape of reservoir (10000, 1)\n",
      "Loading the delay-degree sets\n",
      "(10000, 1)\n",
      "initialize ...\n"
     ]
    },
    {
     "data": {
      "application/vnd.jupyter.widget-view+json": {
       "model_id": "84ed405fca854206ad3197a610b56331",
       "version_major": 2,
       "version_minor": 0
      },
      "text/plain": [
       "Output()"
      ]
     },
     "metadata": {},
     "output_type": "display_data"
    },
    {
     "name": "stdout",
     "output_type": "stream",
     "text": [
      "degree 2 delay 100 ipc 0.012564688782669937\n",
      "shape of reservoir (10000, 1)\n",
      "Loading the delay-degree sets\n",
      "(10000, 1)\n",
      "initialize ...\n"
     ]
    },
    {
     "data": {
      "application/vnd.jupyter.widget-view+json": {
       "model_id": "96497441572d4dfa8f5cfa21b58a20ab",
       "version_major": 2,
       "version_minor": 0
      },
      "text/plain": [
       "Output()"
      ]
     },
     "metadata": {},
     "output_type": "display_data"
    },
    {
     "name": "stdout",
     "output_type": "stream",
     "text": [
      "degree 3 delay 20 ipc 0.004069301236317399\n",
      "shape of reservoir (10000, 1)\n",
      "Loading the delay-degree sets\n",
      "(10000, 1)\n",
      "initialize ...\n"
     ]
    },
    {
     "data": {
      "application/vnd.jupyter.widget-view+json": {
       "model_id": "ff65d11e1b024e1894ff02a27f2e0655",
       "version_major": 2,
       "version_minor": 0
      },
      "text/plain": [
       "Output()"
      ]
     },
     "metadata": {},
     "output_type": "display_data"
    },
    {
     "name": "stdout",
     "output_type": "stream",
     "text": [
      "degree 4 delay 20 ipc 0.006711514645865946\n",
      "shape of reservoir (10000, 1)\n",
      "Loading the delay-degree sets\n",
      "(10000, 1)\n",
      "initialize ...\n"
     ]
    },
    {
     "data": {
      "application/vnd.jupyter.widget-view+json": {
       "model_id": "02f06eaf8b594dd8960bd2ac72975cd4",
       "version_major": 2,
       "version_minor": 0
      },
      "text/plain": [
       "Output()"
      ]
     },
     "metadata": {},
     "output_type": "display_data"
    },
    {
     "name": "stdout",
     "output_type": "stream",
     "text": [
      "degree 5 delay 10 ipc 0\n",
      "shape of reservoir (10000, 1)\n",
      "Loading the delay-degree sets\n",
      "(10000, 1)\n",
      "initialize ...\n"
     ]
    },
    {
     "data": {
      "application/vnd.jupyter.widget-view+json": {
       "model_id": "250e29d7205448fb8abada981f255b64",
       "version_major": 2,
       "version_minor": 0
      },
      "text/plain": [
       "Output()"
      ]
     },
     "metadata": {},
     "output_type": "display_data"
    },
    {
     "name": "stdout",
     "output_type": "stream",
     "text": [
      "degree 6 delay 10 ipc 0.0025847709246360484\n",
      "shape of reservoir (10000, 1)\n",
      "Loading the delay-degree sets\n",
      "(10000, 1)\n",
      "initialize ...\n"
     ]
    },
    {
     "data": {
      "application/vnd.jupyter.widget-view+json": {
       "model_id": "99d29fc6760e4c3e90e2489bf61bd5f5",
       "version_major": 2,
       "version_minor": 0
      },
      "text/plain": [
       "Output()"
      ]
     },
     "metadata": {},
     "output_type": "display_data"
    },
    {
     "name": "stdout",
     "output_type": "stream",
     "text": [
      "degree 7 delay 10 ipc 0\n",
      "shape of reservoir (10000, 1)\n",
      "Loading the delay-degree sets\n",
      "(10000, 1)\n",
      "initialize ...\n"
     ]
    },
    {
     "data": {
      "application/vnd.jupyter.widget-view+json": {
       "model_id": "389a3af18df6452cb9570bef83bbd265",
       "version_major": 2,
       "version_minor": 0
      },
      "text/plain": [
       "Output()"
      ]
     },
     "metadata": {},
     "output_type": "display_data"
    },
    {
     "name": "stdout",
     "output_type": "stream",
     "text": [
      "degree 8 delay 10 ipc 0\n"
     ]
    }
   ],
   "source": [
    "# define ipc moduel of ideal output\n",
    "delay_degree_list = [[1, 200], [2, 100], [3, 20], [4, 20], [5, 10], [6, 10], [7, 10], [8, 10]]\n",
    "reservoirs = train_signal[10000:].T.reshape(10000, 1)\n",
    "# print(reservoirs, reservoirs.shape)\n",
    "for degree_ipc, max_delay_ipc in delay_degree_list:\n",
    "    ipc_analyze = ipc_module.ipc(\n",
    "                washtime=10000, s_in=s_in, reservoir_states=reservoirs, N_binomial=1, p_binomial=0.5,\n",
    "                distribution_in='bernoulli', degree=degree_ipc, max_delay=max_delay_ipc, scale_factor=1.2\n",
    "                )\n",
    "    ipc_list = ipc_analyze.thresold()\n",
    "    print('degree', degree_ipc, 'delay', max_delay_ipc, 'ipc', np.sum(ipc_list))"
   ]
  }
 ],
 "metadata": {
  "kernelspec": {
   "display_name": "Python 3.8.13 ('base')",
   "language": "python",
   "name": "python3"
  },
  "language_info": {
   "codemirror_mode": {
    "name": "ipython",
    "version": 3
   },
   "file_extension": ".py",
   "mimetype": "text/x-python",
   "name": "python",
   "nbconvert_exporter": "python",
   "pygments_lexer": "ipython3",
   "version": "3.8.13"
  },
  "orig_nbformat": 4,
  "vscode": {
   "interpreter": {
    "hash": "b1d41f9da403d21740b895aae2508b6bed6b82f34aa0093ab628a74237156fb7"
   }
  }
 },
 "nbformat": 4,
 "nbformat_minor": 2
}
